{
 "cells": [
  {
   "cell_type": "markdown",
   "metadata": {},
   "source": [
    "# <center>第一次作业"
   ]
  },
  {
   "cell_type": "markdown",
   "metadata": {},
   "source": [
    "第一题：用真值表证明下列恒等式的正确性：\n",
    "    <br>（a）三变量的摩根定理：$(x+y+z)^{\\prime}=x^{\\prime}y^{\\prime}z^{\\prime}$ 和 $(xyz)^{\\prime}=x^{\\prime}+y^{\\prime}+z^{\\prime}$\n",
    "    <br>（b）分配律：$x+yz=(x+y)(x+z)$\n",
    "    <br>（c）分配律：$x(y+z)=xy+xz$\n",
    "    <br>（d）结合律：$x+(y+z)=(x+y)+z$\n",
    "    <br>（e）结合律：$x(yz)=(xy)z$"
   ]
  },
  {
   "cell_type": "markdown",
   "metadata": {},
   "source": [
    "第二题：求出下列函数的反函数\n",
    "    <br>（a）$xy^{\\prime}+x^{\\prime}y$\n",
    "    <br>（b）$(a+c)(a+b^{\\prime})(a^{\\prime}+b+c^{\\prime})$\n",
    "    <br>（c）$z+z^{\\prime}(v^{\\prime}w+xy)$"
   ]
  },
  {
   "cell_type": "markdown",
   "metadata": {},
   "source": [
    "第三题：逻辑运算可以按位实现，每一对相应位（称为位运算）单独进行。给定两个8位字符串 $A=10110001$ 和 $B=10101100$，在以下逻辑运算下计算8位结果：\n",
    "    <br>（a）AND\n",
    "    <br>（b）NOT A\n",
    "    <br>（c）NOT B\n",
    "    "
   ]
  },
  {
   "cell_type": "markdown",
   "metadata": {},
   "source": [
    "第四题：n个变量布尔函数的所有最小项之逻辑和为1。\n",
    "    <br>（a）对于$n=3$，证明上述论断\n",
    "    <br>（b）给出一般的证明过程"
   ]
  },
  {
   "cell_type": "markdown",
   "metadata": {},
   "source": [
    "第五题：用布尔方程和真值表描述图下（a）和（b）所示逻辑图中电路的输出。"
   ]
  },
  {
   "cell_type": "markdown",
   "metadata": {},
   "source": [
    "<center>（a）"
   ]
  },
  {
   "cell_type": "markdown",
   "metadata": {},
   "source": [
    "![2-28](../pictures/2-28_a.png)"
   ]
  },
  {
   "cell_type": "markdown",
   "metadata": {},
   "source": [
    "<center>（b）"
   ]
  },
  {
   "cell_type": "markdown",
   "metadata": {},
   "source": [
    "![2-28](../pictures/2-28_b.png)"
   ]
  },
  {
   "cell_type": "markdown",
   "metadata": {},
   "source": [
    "第六题：判断下列布尔方程是否成立\n",
    "    <br><center> $x^{\\prime}y^{\\prime}+x^{\\prime}z+x^{\\prime}z^{\\prime}=x^{\\prime}z^{\\prime}+y^{\\prime}z^{\\prime}+x^{\\prime}z$"
   ]
  },
  {
   "cell_type": "markdown",
   "metadata": {},
   "source": [
    "第七题：用四变量的卡诺图化简下面的布尔函数。\n",
    "    <br><center> $F(A,B,C,D)=\\Sigma(2,3,6,7,12,13,14)$"
   ]
  },
  {
   "cell_type": "markdown",
   "metadata": {},
   "source": [
    "第八题：用四变量的卡诺图法化简下面的布尔表达式。\n",
    "    <br><center> $A^{\\prime}B^{\\prime}C^{\\prime}D^{\\prime}+AC^{\\prime}D^{\\prime}+B^{\\prime}CD^{\\prime}+A^{\\prime}BCD+BC^{\\prime}D$"
   ]
  },
  {
   "cell_type": "markdown",
   "metadata": {},
   "source": [
    "第九题：用卡诺图将函数$F=fg$ 化简成积之和式。已知f和g分别为：\n",
    "    <br><center> $f=abc^{\\prime}+c^{\\prime}d+a^{\\prime}cd^{\\prime}+b^{\\prime}cd^{\\prime}$</div align=center>\n",
    "    <br>和\n",
    "    <br><center> $g=(a+b+c^{\\prime}+d^{\\prime})(b^{\\prime}+c^{\\prime}+d)(a^{\\prime}+c+d^{\\prime})$"
   ]
  }
 ],
 "metadata": {
  "kernelspec": {
   "display_name": "Python 3",
   "language": "python",
   "name": "python3"
  },
  "language_info": {
   "codemirror_mode": {
    "name": "ipython",
    "version": 3
   },
   "file_extension": ".py",
   "mimetype": "text/x-python",
   "name": "python",
   "nbconvert_exporter": "python",
   "pygments_lexer": "ipython3",
   "version": "3.6.5"
  }
 },
 "nbformat": 4,
 "nbformat_minor": 2
}
